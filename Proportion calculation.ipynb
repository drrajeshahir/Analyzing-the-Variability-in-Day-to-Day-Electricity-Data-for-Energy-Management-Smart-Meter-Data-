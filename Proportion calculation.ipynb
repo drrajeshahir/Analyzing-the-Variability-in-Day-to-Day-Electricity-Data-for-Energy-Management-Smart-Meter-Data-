{
 "cells": [
  {
   "cell_type": "code",
   "execution_count": 1,
   "id": "145d1b7c-9652-4f3f-820b-f470f050d76b",
   "metadata": {},
   "outputs": [],
   "source": [
    "import numpy as np\n",
    "import math\n",
    "import random\n",
    "import pandas as pd\n",
    "import datetime as dt\n",
    "import matplotlib.pyplot as plt"
   ]
  },
  {
   "cell_type": "code",
   "execution_count": 2,
   "id": "d7eb49a0-9d3b-48ca-a257-96aa66ceec28",
   "metadata": {},
   "outputs": [],
   "source": [
    "import warnings\n",
    "warnings.simplefilter(action='ignore', category=FutureWarning)\n",
    "pd.options.mode.chained_assignment = None "
   ]
  },
  {
   "cell_type": "code",
   "execution_count": 3,
   "id": "3b85ca98-f12b-45df-97e4-480b9d15b84f",
   "metadata": {},
   "outputs": [],
   "source": [
    "df = pd.read_csv(\"Cluster1_RE_Median.csv\")"
   ]
  },
  {
   "cell_type": "code",
   "execution_count": 4,
   "id": "3b67632d-be83-4d16-a830-f27c19f22160",
   "metadata": {},
   "outputs": [
    {
     "data": {
      "text/html": [
       "<div>\n",
       "<style scoped>\n",
       "    .dataframe tbody tr th:only-of-type {\n",
       "        vertical-align: middle;\n",
       "    }\n",
       "\n",
       "    .dataframe tbody tr th {\n",
       "        vertical-align: top;\n",
       "    }\n",
       "\n",
       "    .dataframe thead th {\n",
       "        text-align: right;\n",
       "    }\n",
       "</style>\n",
       "<table border=\"1\" class=\"dataframe\">\n",
       "  <thead>\n",
       "    <tr style=\"text-align: right;\">\n",
       "      <th></th>\n",
       "      <th>idmeter</th>\n",
       "      <th>r_entr_d2d_median</th>\n",
       "      <th>r_entr_d2d_morn_median</th>\n",
       "      <th>r_entr_d2d_daytime_median</th>\n",
       "      <th>r_entr_d2d_pre-peak_median</th>\n",
       "      <th>r_entr_d2d_peak_median</th>\n",
       "      <th>r_entr_d2d_post-peak_median</th>\n",
       "      <th>r_entr_d2mean_median</th>\n",
       "      <th>r_entr_d2mean_morn_median</th>\n",
       "      <th>r_entr_d2mean_daytime_median</th>\n",
       "      <th>r_entr_d2mean_pre-peak_median</th>\n",
       "      <th>r_entr_d2mean_peak_median</th>\n",
       "      <th>r_entr_d2mean_post-peak_median</th>\n",
       "      <th>daily_mean</th>\n",
       "      <th>total_cons</th>\n",
       "    </tr>\n",
       "  </thead>\n",
       "  <tbody>\n",
       "    <tr>\n",
       "      <th>0</th>\n",
       "      <td>22815596.0</td>\n",
       "      <td>0.085506</td>\n",
       "      <td>0.018017</td>\n",
       "      <td>0.017224</td>\n",
       "      <td>0.017049</td>\n",
       "      <td>0.029173</td>\n",
       "      <td>0.010638</td>\n",
       "      <td>0.066236</td>\n",
       "      <td>0.041868</td>\n",
       "      <td>0.031871</td>\n",
       "      <td>0.016336</td>\n",
       "      <td>0.024751</td>\n",
       "      <td>0.022335</td>\n",
       "      <td>21.005660</td>\n",
       "      <td>12126.7950</td>\n",
       "    </tr>\n",
       "    <tr>\n",
       "      <th>1</th>\n",
       "      <td>22815401.0</td>\n",
       "      <td>0.011736</td>\n",
       "      <td>0.010455</td>\n",
       "      <td>0.008872</td>\n",
       "      <td>0.008924</td>\n",
       "      <td>0.012949</td>\n",
       "      <td>0.006556</td>\n",
       "      <td>0.013942</td>\n",
       "      <td>0.010848</td>\n",
       "      <td>0.015037</td>\n",
       "      <td>0.010745</td>\n",
       "      <td>0.015783</td>\n",
       "      <td>0.010877</td>\n",
       "      <td>20.536840</td>\n",
       "      <td>11622.8320</td>\n",
       "    </tr>\n",
       "    <tr>\n",
       "      <th>2</th>\n",
       "      <td>22815986.0</td>\n",
       "      <td>0.002203</td>\n",
       "      <td>0.004671</td>\n",
       "      <td>0.005434</td>\n",
       "      <td>0.004386</td>\n",
       "      <td>0.007528</td>\n",
       "      <td>0.004219</td>\n",
       "      <td>0.002822</td>\n",
       "      <td>0.004055</td>\n",
       "      <td>0.005535</td>\n",
       "      <td>0.009785</td>\n",
       "      <td>0.008269</td>\n",
       "      <td>0.008818</td>\n",
       "      <td>20.004409</td>\n",
       "      <td>7821.7240</td>\n",
       "    </tr>\n",
       "    <tr>\n",
       "      <th>3</th>\n",
       "      <td>22816059.0</td>\n",
       "      <td>0.228105</td>\n",
       "      <td>0.050848</td>\n",
       "      <td>0.027037</td>\n",
       "      <td>0.024826</td>\n",
       "      <td>0.040179</td>\n",
       "      <td>0.020993</td>\n",
       "      <td>0.155533</td>\n",
       "      <td>0.036849</td>\n",
       "      <td>0.026374</td>\n",
       "      <td>0.019352</td>\n",
       "      <td>0.034982</td>\n",
       "      <td>0.039918</td>\n",
       "      <td>19.248178</td>\n",
       "      <td>7506.7895</td>\n",
       "    </tr>\n",
       "    <tr>\n",
       "      <th>4</th>\n",
       "      <td>22814863.0</td>\n",
       "      <td>0.018017</td>\n",
       "      <td>0.010909</td>\n",
       "      <td>0.009578</td>\n",
       "      <td>0.010543</td>\n",
       "      <td>0.017091</td>\n",
       "      <td>0.007892</td>\n",
       "      <td>0.023112</td>\n",
       "      <td>0.010904</td>\n",
       "      <td>0.014757</td>\n",
       "      <td>0.010789</td>\n",
       "      <td>0.024160</td>\n",
       "      <td>0.017601</td>\n",
       "      <td>18.753180</td>\n",
       "      <td>7332.4935</td>\n",
       "    </tr>\n",
       "  </tbody>\n",
       "</table>\n",
       "</div>"
      ],
      "text/plain": [
       "      idmeter  r_entr_d2d_median  r_entr_d2d_morn_median  \\\n",
       "0  22815596.0           0.085506                0.018017   \n",
       "1  22815401.0           0.011736                0.010455   \n",
       "2  22815986.0           0.002203                0.004671   \n",
       "3  22816059.0           0.228105                0.050848   \n",
       "4  22814863.0           0.018017                0.010909   \n",
       "\n",
       "   r_entr_d2d_daytime_median  r_entr_d2d_pre-peak_median  \\\n",
       "0                   0.017224                    0.017049   \n",
       "1                   0.008872                    0.008924   \n",
       "2                   0.005434                    0.004386   \n",
       "3                   0.027037                    0.024826   \n",
       "4                   0.009578                    0.010543   \n",
       "\n",
       "   r_entr_d2d_peak_median  r_entr_d2d_post-peak_median  r_entr_d2mean_median  \\\n",
       "0                0.029173                     0.010638              0.066236   \n",
       "1                0.012949                     0.006556              0.013942   \n",
       "2                0.007528                     0.004219              0.002822   \n",
       "3                0.040179                     0.020993              0.155533   \n",
       "4                0.017091                     0.007892              0.023112   \n",
       "\n",
       "   r_entr_d2mean_morn_median  r_entr_d2mean_daytime_median  \\\n",
       "0                   0.041868                      0.031871   \n",
       "1                   0.010848                      0.015037   \n",
       "2                   0.004055                      0.005535   \n",
       "3                   0.036849                      0.026374   \n",
       "4                   0.010904                      0.014757   \n",
       "\n",
       "   r_entr_d2mean_pre-peak_median  r_entr_d2mean_peak_median  \\\n",
       "0                       0.016336                   0.024751   \n",
       "1                       0.010745                   0.015783   \n",
       "2                       0.009785                   0.008269   \n",
       "3                       0.019352                   0.034982   \n",
       "4                       0.010789                   0.024160   \n",
       "\n",
       "   r_entr_d2mean_post-peak_median  daily_mean  total_cons  \n",
       "0                        0.022335   21.005660  12126.7950  \n",
       "1                        0.010877   20.536840  11622.8320  \n",
       "2                        0.008818   20.004409   7821.7240  \n",
       "3                        0.039918   19.248178   7506.7895  \n",
       "4                        0.017601   18.753180   7332.4935  "
      ]
     },
     "execution_count": 4,
     "metadata": {},
     "output_type": "execute_result"
    }
   ],
   "source": [
    "df.head()"
   ]
  },
  {
   "cell_type": "code",
   "execution_count": 13,
   "id": "7e247617-99eb-4b69-b0b4-4ff2706c2c46",
   "metadata": {},
   "outputs": [
    {
     "ename": "TypeError",
     "evalue": "Cannot perform 'rand_' with a dtyped [float64] array and scalar of type [bool]",
     "output_type": "error",
     "traceback": [
      "\u001b[1;31m---------------------------------------------------------------------------\u001b[0m",
      "\u001b[1;31mTypeError\u001b[0m                                 Traceback (most recent call last)",
      "File \u001b[1;32mC:\\ProgramData\\Anaconda3\\lib\\site-packages\\pandas\\core\\ops\\array_ops.py:301\u001b[0m, in \u001b[0;36mna_logical_op\u001b[1;34m(x, y, op)\u001b[0m\n\u001b[0;32m    292\u001b[0m \u001b[38;5;28;01mtry\u001b[39;00m:\n\u001b[0;32m    293\u001b[0m     \u001b[38;5;66;03m# For exposition, write:\u001b[39;00m\n\u001b[0;32m    294\u001b[0m     \u001b[38;5;66;03m#  yarr = isinstance(y, np.ndarray)\u001b[39;00m\n\u001b[1;32m   (...)\u001b[0m\n\u001b[0;32m    299\u001b[0m     \u001b[38;5;66;03m# Then Cases where this goes through without raising include:\u001b[39;00m\n\u001b[0;32m    300\u001b[0m     \u001b[38;5;66;03m#  (xint or xbool) and (yint or bool)\u001b[39;00m\n\u001b[1;32m--> 301\u001b[0m     result \u001b[38;5;241m=\u001b[39m \u001b[43mop\u001b[49m\u001b[43m(\u001b[49m\u001b[43mx\u001b[49m\u001b[43m,\u001b[49m\u001b[43m \u001b[49m\u001b[43my\u001b[49m\u001b[43m)\u001b[49m\n\u001b[0;32m    302\u001b[0m \u001b[38;5;28;01mexcept\u001b[39;00m \u001b[38;5;167;01mTypeError\u001b[39;00m:\n",
      "File \u001b[1;32mC:\\ProgramData\\Anaconda3\\lib\\site-packages\\pandas\\core\\roperator.py:52\u001b[0m, in \u001b[0;36mrand_\u001b[1;34m(left, right)\u001b[0m\n\u001b[0;32m     51\u001b[0m \u001b[38;5;28;01mdef\u001b[39;00m \u001b[38;5;21mrand_\u001b[39m(left, right):\n\u001b[1;32m---> 52\u001b[0m     \u001b[38;5;28;01mreturn\u001b[39;00m \u001b[43moperator\u001b[49m\u001b[38;5;241;43m.\u001b[39;49m\u001b[43mand_\u001b[49m\u001b[43m(\u001b[49m\u001b[43mright\u001b[49m\u001b[43m,\u001b[49m\u001b[43m \u001b[49m\u001b[43mleft\u001b[49m\u001b[43m)\u001b[49m\n",
      "\u001b[1;31mTypeError\u001b[0m: ufunc 'bitwise_and' not supported for the input types, and the inputs could not be safely coerced to any supported types according to the casting rule ''safe''",
      "\nDuring handling of the above exception, another exception occurred:\n",
      "\u001b[1;31mValueError\u001b[0m                                Traceback (most recent call last)",
      "File \u001b[1;32mC:\\ProgramData\\Anaconda3\\lib\\site-packages\\pandas\\core\\ops\\array_ops.py:315\u001b[0m, in \u001b[0;36mna_logical_op\u001b[1;34m(x, y, op)\u001b[0m\n\u001b[0;32m    314\u001b[0m \u001b[38;5;28;01mtry\u001b[39;00m:\n\u001b[1;32m--> 315\u001b[0m     result \u001b[38;5;241m=\u001b[39m \u001b[43mlibops\u001b[49m\u001b[38;5;241;43m.\u001b[39;49m\u001b[43mscalar_binop\u001b[49m\u001b[43m(\u001b[49m\u001b[43mx\u001b[49m\u001b[43m,\u001b[49m\u001b[43m \u001b[49m\u001b[43my\u001b[49m\u001b[43m,\u001b[49m\u001b[43m \u001b[49m\u001b[43mop\u001b[49m\u001b[43m)\u001b[49m\n\u001b[0;32m    316\u001b[0m \u001b[38;5;28;01mexcept\u001b[39;00m (\n\u001b[0;32m    317\u001b[0m     \u001b[38;5;167;01mTypeError\u001b[39;00m,\n\u001b[0;32m    318\u001b[0m     \u001b[38;5;167;01mValueError\u001b[39;00m,\n\u001b[1;32m   (...)\u001b[0m\n\u001b[0;32m    321\u001b[0m     \u001b[38;5;167;01mNotImplementedError\u001b[39;00m,\n\u001b[0;32m    322\u001b[0m ) \u001b[38;5;28;01mas\u001b[39;00m err:\n",
      "File \u001b[1;32mC:\\ProgramData\\Anaconda3\\lib\\site-packages\\pandas\\_libs\\ops.pyx:180\u001b[0m, in \u001b[0;36mpandas._libs.ops.scalar_binop\u001b[1;34m()\u001b[0m\n",
      "\u001b[1;31mValueError\u001b[0m: Buffer dtype mismatch, expected 'Python object' but got 'double'",
      "\nThe above exception was the direct cause of the following exception:\n",
      "\u001b[1;31mTypeError\u001b[0m                                 Traceback (most recent call last)",
      "Input \u001b[1;32mIn [13]\u001b[0m, in \u001b[0;36m<cell line: 1>\u001b[1;34m()\u001b[0m\n\u001b[1;32m----> 1\u001b[0m df[df[\u001b[38;5;124m'\u001b[39m\u001b[38;5;124mr_entr_d2d_median\u001b[39m\u001b[38;5;124m'\u001b[39m] \u001b[38;5;241m>\u001b[39m \u001b[38;5;241;43m1\u001b[39;49m\u001b[43m \u001b[49m\u001b[38;5;241;43m&\u001b[39;49m\u001b[43m \u001b[49m\u001b[43mdf\u001b[49m\u001b[43m[\u001b[49m\u001b[38;5;124;43m'\u001b[39;49m\u001b[38;5;124;43mr_entr_d2d_median\u001b[39;49m\u001b[38;5;124;43m'\u001b[39;49m\u001b[43m]\u001b[49m \u001b[38;5;241m<\u001b[39m \u001b[38;5;241m2\u001b[39m][\u001b[38;5;124m'\u001b[39m\u001b[38;5;124mr_entr_d2d_median\u001b[39m\u001b[38;5;124m'\u001b[39m]\u001b[38;5;241m.\u001b[39mcount()\n",
      "File \u001b[1;32mC:\\ProgramData\\Anaconda3\\lib\\site-packages\\pandas\\core\\ops\\common.py:70\u001b[0m, in \u001b[0;36m_unpack_zerodim_and_defer.<locals>.new_method\u001b[1;34m(self, other)\u001b[0m\n\u001b[0;32m     66\u001b[0m             \u001b[38;5;28;01mreturn\u001b[39;00m \u001b[38;5;28mNotImplemented\u001b[39m\n\u001b[0;32m     68\u001b[0m other \u001b[38;5;241m=\u001b[39m item_from_zerodim(other)\n\u001b[1;32m---> 70\u001b[0m \u001b[38;5;28;01mreturn\u001b[39;00m \u001b[43mmethod\u001b[49m\u001b[43m(\u001b[49m\u001b[38;5;28;43mself\u001b[39;49m\u001b[43m,\u001b[49m\u001b[43m \u001b[49m\u001b[43mother\u001b[49m\u001b[43m)\u001b[49m\n",
      "File \u001b[1;32mC:\\ProgramData\\Anaconda3\\lib\\site-packages\\pandas\\core\\arraylike.py:74\u001b[0m, in \u001b[0;36mOpsMixin.__rand__\u001b[1;34m(self, other)\u001b[0m\n\u001b[0;32m     72\u001b[0m \u001b[38;5;129m@unpack_zerodim_and_defer\u001b[39m(\u001b[38;5;124m\"\u001b[39m\u001b[38;5;124m__rand__\u001b[39m\u001b[38;5;124m\"\u001b[39m)\n\u001b[0;32m     73\u001b[0m \u001b[38;5;28;01mdef\u001b[39;00m \u001b[38;5;21m__rand__\u001b[39m(\u001b[38;5;28mself\u001b[39m, other):\n\u001b[1;32m---> 74\u001b[0m     \u001b[38;5;28;01mreturn\u001b[39;00m \u001b[38;5;28;43mself\u001b[39;49m\u001b[38;5;241;43m.\u001b[39;49m\u001b[43m_logical_method\u001b[49m\u001b[43m(\u001b[49m\u001b[43mother\u001b[49m\u001b[43m,\u001b[49m\u001b[43m \u001b[49m\u001b[43mroperator\u001b[49m\u001b[38;5;241;43m.\u001b[39;49m\u001b[43mrand_\u001b[49m\u001b[43m)\u001b[49m\n",
      "File \u001b[1;32mC:\\ProgramData\\Anaconda3\\lib\\site-packages\\pandas\\core\\series.py:5634\u001b[0m, in \u001b[0;36mSeries._logical_method\u001b[1;34m(self, other, op)\u001b[0m\n\u001b[0;32m   5631\u001b[0m lvalues \u001b[38;5;241m=\u001b[39m \u001b[38;5;28mself\u001b[39m\u001b[38;5;241m.\u001b[39m_values\n\u001b[0;32m   5632\u001b[0m rvalues \u001b[38;5;241m=\u001b[39m extract_array(other, extract_numpy\u001b[38;5;241m=\u001b[39m\u001b[38;5;28;01mTrue\u001b[39;00m, extract_range\u001b[38;5;241m=\u001b[39m\u001b[38;5;28;01mTrue\u001b[39;00m)\n\u001b[1;32m-> 5634\u001b[0m res_values \u001b[38;5;241m=\u001b[39m \u001b[43mops\u001b[49m\u001b[38;5;241;43m.\u001b[39;49m\u001b[43mlogical_op\u001b[49m\u001b[43m(\u001b[49m\u001b[43mlvalues\u001b[49m\u001b[43m,\u001b[49m\u001b[43m \u001b[49m\u001b[43mrvalues\u001b[49m\u001b[43m,\u001b[49m\u001b[43m \u001b[49m\u001b[43mop\u001b[49m\u001b[43m)\u001b[49m\n\u001b[0;32m   5635\u001b[0m \u001b[38;5;28;01mreturn\u001b[39;00m \u001b[38;5;28mself\u001b[39m\u001b[38;5;241m.\u001b[39m_construct_result(res_values, name\u001b[38;5;241m=\u001b[39mres_name)\n",
      "File \u001b[1;32mC:\\ProgramData\\Anaconda3\\lib\\site-packages\\pandas\\core\\ops\\array_ops.py:391\u001b[0m, in \u001b[0;36mlogical_op\u001b[1;34m(left, right, op)\u001b[0m\n\u001b[0;32m    387\u001b[0m \u001b[38;5;66;03m# For int vs int `^`, `|`, `&` are bitwise operators and return\u001b[39;00m\n\u001b[0;32m    388\u001b[0m \u001b[38;5;66;03m#   integer dtypes.  Otherwise these are boolean ops\u001b[39;00m\n\u001b[0;32m    389\u001b[0m filler \u001b[38;5;241m=\u001b[39m fill_int \u001b[38;5;28;01mif\u001b[39;00m is_self_int_dtype \u001b[38;5;129;01mand\u001b[39;00m is_other_int_dtype \u001b[38;5;28;01melse\u001b[39;00m fill_bool\n\u001b[1;32m--> 391\u001b[0m res_values \u001b[38;5;241m=\u001b[39m \u001b[43mna_logical_op\u001b[49m\u001b[43m(\u001b[49m\u001b[43mlvalues\u001b[49m\u001b[43m,\u001b[49m\u001b[43m \u001b[49m\u001b[43mrvalues\u001b[49m\u001b[43m,\u001b[49m\u001b[43m \u001b[49m\u001b[43mop\u001b[49m\u001b[43m)\u001b[49m\n\u001b[0;32m    392\u001b[0m \u001b[38;5;66;03m# error: Cannot call function of unknown type\u001b[39;00m\n\u001b[0;32m    393\u001b[0m res_values \u001b[38;5;241m=\u001b[39m filler(res_values)  \u001b[38;5;66;03m# type: ignore[operator]\u001b[39;00m\n",
      "File \u001b[1;32mC:\\ProgramData\\Anaconda3\\lib\\site-packages\\pandas\\core\\ops\\array_ops.py:324\u001b[0m, in \u001b[0;36mna_logical_op\u001b[1;34m(x, y, op)\u001b[0m\n\u001b[0;32m    316\u001b[0m         \u001b[38;5;28;01mexcept\u001b[39;00m (\n\u001b[0;32m    317\u001b[0m             \u001b[38;5;167;01mTypeError\u001b[39;00m,\n\u001b[0;32m    318\u001b[0m             \u001b[38;5;167;01mValueError\u001b[39;00m,\n\u001b[1;32m   (...)\u001b[0m\n\u001b[0;32m    321\u001b[0m             \u001b[38;5;167;01mNotImplementedError\u001b[39;00m,\n\u001b[0;32m    322\u001b[0m         ) \u001b[38;5;28;01mas\u001b[39;00m err:\n\u001b[0;32m    323\u001b[0m             typ \u001b[38;5;241m=\u001b[39m \u001b[38;5;28mtype\u001b[39m(y)\u001b[38;5;241m.\u001b[39m\u001b[38;5;18m__name__\u001b[39m\n\u001b[1;32m--> 324\u001b[0m             \u001b[38;5;28;01mraise\u001b[39;00m \u001b[38;5;167;01mTypeError\u001b[39;00m(\n\u001b[0;32m    325\u001b[0m                 \u001b[38;5;124mf\u001b[39m\u001b[38;5;124m\"\u001b[39m\u001b[38;5;124mCannot perform \u001b[39m\u001b[38;5;124m'\u001b[39m\u001b[38;5;132;01m{\u001b[39;00mop\u001b[38;5;241m.\u001b[39m\u001b[38;5;18m__name__\u001b[39m\u001b[38;5;132;01m}\u001b[39;00m\u001b[38;5;124m'\u001b[39m\u001b[38;5;124m with a dtyped [\u001b[39m\u001b[38;5;132;01m{\u001b[39;00mx\u001b[38;5;241m.\u001b[39mdtype\u001b[38;5;132;01m}\u001b[39;00m\u001b[38;5;124m] array \u001b[39m\u001b[38;5;124m\"\u001b[39m\n\u001b[0;32m    326\u001b[0m                 \u001b[38;5;124mf\u001b[39m\u001b[38;5;124m\"\u001b[39m\u001b[38;5;124mand scalar of type [\u001b[39m\u001b[38;5;132;01m{\u001b[39;00mtyp\u001b[38;5;132;01m}\u001b[39;00m\u001b[38;5;124m]\u001b[39m\u001b[38;5;124m\"\u001b[39m\n\u001b[0;32m    327\u001b[0m             ) \u001b[38;5;28;01mfrom\u001b[39;00m \u001b[38;5;21;01merr\u001b[39;00m\n\u001b[0;32m    329\u001b[0m \u001b[38;5;28;01mreturn\u001b[39;00m result\u001b[38;5;241m.\u001b[39mreshape(x\u001b[38;5;241m.\u001b[39mshape)\n",
      "\u001b[1;31mTypeError\u001b[0m: Cannot perform 'rand_' with a dtyped [float64] array and scalar of type [bool]"
     ]
    }
   ],
   "source": [
    "df[df['r_entr_d2d_median'] > 1 & df['r_entr_d2d_median'] < 2]['r_entr_d2d_median'].count()"
   ]
  },
  {
   "cell_type": "code",
   "execution_count": 25,
   "id": "3612905d-5402-410c-b9b6-665345e25bf9",
   "metadata": {},
   "outputs": [
    {
     "data": {
      "text/plain": [
       "15"
      ]
     },
     "execution_count": 25,
     "metadata": {},
     "output_type": "execute_result"
    }
   ],
   "source": [
    "df['r_entr_d2d_median'][(3 <= df['r_entr_d2d_median'])].count()"
   ]
  },
  {
   "cell_type": "code",
   "execution_count": 18,
   "id": "135f2b00-9e11-42dc-b1c1-dae2c0bf0f81",
   "metadata": {},
   "outputs": [
    {
     "data": {
      "text/plain": [
       "750"
      ]
     },
     "execution_count": 18,
     "metadata": {},
     "output_type": "execute_result"
    }
   ],
   "source": [
    "df['r_entr_d2d_median'].count()"
   ]
  },
  {
   "cell_type": "code",
   "execution_count": 29,
   "id": "f4f5dc6c-32d9-47ca-92f5-c1a4acdff495",
   "metadata": {},
   "outputs": [],
   "source": [
    "df_prop_cust = pd.DataFrame(columns = ['Cluster No.', 'd2d1to2', 'd2d2to3','d2d>3', 'd2mean1to2', 'd2mean2to3','d2mean>3'])\n",
    "for i in range(1, 13):\n",
    "    df = pd.read_csv(\"Cluster\"+str(i)+\"_RE_Median.csv\")\n",
    "    totalcount = df['r_entr_d2d_median'].count()\n",
    "    d2d1to2 = df['r_entr_d2d_median'][(1 <= df['r_entr_d2d_median']) & (df['r_entr_d2d_median'] <= 2)].count()\n",
    "    d2d1to2 = (d2d1to2/totalcount)*100\n",
    "    d2d2to3 = df['r_entr_d2d_median'][(2 <= df['r_entr_d2d_median']) & (df['r_entr_d2d_median'] <= 3)].count()\n",
    "    d2d2to3 = (d2d2to3/totalcount)*100\n",
    "    d2dgr3 = df['r_entr_d2d_median'][(3 <= df['r_entr_d2d_median'])].count()\n",
    "    d2dgr3 = (d2dgr3/totalcount)*100\n",
    "    d2mean1to2 = df['r_entr_d2mean_median'][(1 <= df['r_entr_d2mean_median']) & (df['r_entr_d2mean_median'] <= 2)].count()\n",
    "    d2mean1to2 = (d2mean1to2/totalcount)*100\n",
    "    d2mean2to3 = df['r_entr_d2mean_median'][(2 <= df['r_entr_d2mean_median']) & (df['r_entr_d2mean_median'] <= 3)].count()\n",
    "    d2mean2to3 = (d2mean2to3/totalcount)*100\n",
    "    d2meangr3 = df['r_entr_d2mean_median'][(3 <= df['r_entr_d2mean_median'])].count()\n",
    "    d2meangr3 = (d2meangr3/totalcount)*100\n",
    "    df_prop_cust = df_prop_cust.append({'Cluster No.': i, 'd2d1to2': d2d1to2, 'd2d2to3': d2d2to3,'d2d>3': d2dgr3, \n",
    "                                        'd2mean1to2': d2mean1to2, 'd2mean2to3': d2mean2to3,'d2mean>3': d2meangr3}, ignore_index = True)\n",
    "df_prop_cust.to_csv(\"Proportion_Cust_Each_Cluster.csv\", index=False)"
   ]
  },
  {
   "cell_type": "code",
   "execution_count": null,
   "id": "618f450f-1587-485b-9e47-42ba3698d4ae",
   "metadata": {},
   "outputs": [],
   "source": []
  }
 ],
 "metadata": {
  "kernelspec": {
   "display_name": "Python 3 (ipykernel)",
   "language": "python",
   "name": "python3"
  },
  "language_info": {
   "codemirror_mode": {
    "name": "ipython",
    "version": 3
   },
   "file_extension": ".py",
   "mimetype": "text/x-python",
   "name": "python",
   "nbconvert_exporter": "python",
   "pygments_lexer": "ipython3",
   "version": "3.9.12"
  }
 },
 "nbformat": 4,
 "nbformat_minor": 5
}
